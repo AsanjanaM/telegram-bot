{
  "cells": [
    {
      "cell_type": "markdown",
      "metadata": {
        "id": "XFltDczkJy0B"
      },
      "source": [
        "***Read data from group***\n"
      ]
    },
    {
      "cell_type": "code",
      "execution_count": 3,
      "metadata": {
        "colab": {
          "base_uri": "https://localhost:8080/"
        },
        "id": "8GkekUDmJ3lg",
        "outputId": "0007c84b-5c7d-4200-d473-f0fdf1862ede"
      },
      "outputs": [
        {
          "name": "stdout",
          "output_type": "stream",
          "text": [
            "{\"ok\":true,\"result\":[{\"update_id\":397126626,\n",
            "\"message\":{\"message_id\":3,\"from\":{\"id\":1601503729,\"is_bot\":false,\"first_name\":\"panda\"},\"chat\":{\"id\":-4795784921,\"title\":\"panda\",\"type\":\"group\",\"all_members_are_administrators\":true},\"date\":1734681419,\"text\":\"/hello\",\"entities\":[{\"offset\":0,\"length\":6,\"type\":\"bot_command\"}]}},{\"update_id\":397126627,\n",
            "\"message\":{\"message_id\":4,\"from\":{\"id\":1601503729,\"is_bot\":false,\"first_name\":\"panda\"},\"chat\":{\"id\":-4795784921,\"title\":\"panda\",\"type\":\"group\",\"all_members_are_administrators\":true},\"date\":1734681585,\"text\":\"hiii\"}},{\"update_id\":397126628,\n",
            "\"message\":{\"message_id\":5,\"from\":{\"id\":1601503729,\"is_bot\":false,\"first_name\":\"panda\"},\"chat\":{\"id\":-4795784921,\"title\":\"panda\",\"type\":\"group\",\"all_members_are_administrators\":true},\"date\":1734682187,\"text\":\"hey this is a new message\"}}]}\n"
          ]
        }
      ],
      "source": [
        "import requests\n",
        "\n",
        "base_url = \"https://api.telegram.org/bot7861027677:AAFZXgB_7COOaixE8_nyR0-o1GQx19d71Rg/getupdates\"\n",
        "\n",
        "parameters = {\n",
        "    \"offset\" : \"994059489\"\n",
        "}\n",
        "\n",
        "resp = requests.get(base_url, data = parameters)\n",
        "print(resp.text)"
      ]
    },
    {
      "cell_type": "markdown",
      "metadata": {
        "id": "Pl54TxwSMvyJ"
      },
      "source": [
        "# **sending message for every 10 seconds **\n"
      ]
    },
    {
      "cell_type": "code",
      "execution_count": 20,
      "metadata": {
        "colab": {
          "base_uri": "https://localhost:8080/"
        },
        "id": "7-LTG1dBKVnR",
        "outputId": "23ee5da0-464e-407b-fcf0-466801c8e268"
      },
      "outputs": [
        {
          "name": "stdout",
          "output_type": "stream",
          "text": [
            "{\"ok\":true,\"result\":{\"message_id\":15,\"from\":{\"id\":7861027677,\"is_bot\":true,\"first_name\":\"piggy\",\"username\":\"piggy15_bot\"},\"chat\":{\"id\":-4795784921,\"title\":\"panda\",\"type\":\"group\",\"all_members_are_administrators\":true},\"date\":1734684945,\"text\":\"hi am piggy\"}}\n",
            "{\"ok\":true,\"result\":{\"message_id\":16,\"from\":{\"id\":7861027677,\"is_bot\":true,\"first_name\":\"piggy\",\"username\":\"piggy15_bot\"},\"chat\":{\"id\":-4795784921,\"title\":\"panda\",\"type\":\"group\",\"all_members_are_administrators\":true},\"date\":1734684956,\"text\":\"how are you guys\"}}\n"
          ]
        }
      ],
      "source": [
        "import requests\n",
        "import time\n",
        "\n",
        "# Correct API endpoint with token\n",
        "base_url = \"https://api.telegram.org/bot7861027677:AAFZXgB_7COOaixE8_nyR0-o1GQx19d71Rg/sendMessage\"\n",
        "jokess = [\"hi am piggy\", \"how are you guys\"]\n",
        "\n",
        "# Loop through each joke\n",
        "for joke in jokess:\n",
        "    # Correct parameters for each joke\n",
        "    parameters = {\n",
        "        \"chat_id\": \"-4795784921\",  # Replace with your actual chat ID\n",
        "        \"text\": joke               # Send the current joke\n",
        "    }\n",
        "\n",
        "    # Send the joke\n",
        "    resp = requests.post(base_url, data=parameters)\n",
        "\n",
        "    # Print the response for debugging\n",
        "    print(resp.text)\n",
        "\n",
        "    # Wait for 10 seconds before sending the next joke\n",
        "    time.sleep(10)\n"
      ]
    },
    {
      "cell_type": "markdown",
      "metadata": {
        "id": "G4c9yhu0WCez"
      },
      "source": [
        "# **Adding photo and caption **"
      ]
    },
    {
      "cell_type": "code",
      "execution_count": 28,
      "metadata": {
        "colab": {
          "base_uri": "https://localhost:8080/"
        },
        "id": "EqiqGbbjSJtC",
        "outputId": "a5149d62-e336-401d-c50d-4d2f218baece"
      },
      "outputs": [
        {
          "name": "stdout",
          "output_type": "stream",
          "text": [
            "{\"ok\":true,\"result\":{\"message_id\":23,\"from\":{\"id\":7861027677,\"is_bot\":true,\"first_name\":\"piggy\",\"username\":\"piggy15_bot\"},\"chat\":{\"id\":-4795784921,\"title\":\"panda\",\"type\":\"group\",\"all_members_are_administrators\":true},\"date\":1734685952,\"photo\":[{\"file_id\":\"AgACAgQAAxkDAAMXZ2U1AAFKZAU0UqHURxvdHAz46CpDAAIJtzEbEVQsU6d4X9rNZlapAQADAgADcwADNgQ\",\"file_unique_id\":\"AQADCbcxGxFULFN4\",\"file_size\":1059,\"width\":90,\"height\":47},{\"file_id\":\"AgACAgQAAxkDAAMXZ2U1AAFKZAU0UqHURxvdHAz46CpDAAIJtzEbEVQsU6d4X9rNZlapAQADAgADbQADNgQ\",\"file_unique_id\":\"AQADCbcxGxFULFNy\",\"file_size\":12838,\"width\":320,\"height\":168},{\"file_id\":\"AgACAgQAAxkDAAMXZ2U1AAFKZAU0UqHURxvdHAz46CpDAAIJtzEbEVQsU6d4X9rNZlapAQADAgADeAADNgQ\",\"file_unique_id\":\"AQADCbcxGxFULFN9\",\"file_size\":54420,\"width\":800,\"height\":420},{\"file_id\":\"AgACAgQAAxkDAAMXZ2U1AAFKZAU0UqHURxvdHAz46CpDAAIJtzEbEVQsU6d4X9rNZlapAQADAgADeQADNgQ\",\"file_unique_id\":\"AQADCbcxGxFULFN-\",\"file_size\":85980,\"width\":1200,\"height\":630}],\"caption\":\"Hello everyone!\"}}\n"
          ]
        }
      ],
      "source": [
        "import requests\n",
        "\n",
        "# Correct API endpoint with token\n",
        "base_url = \"https://api.telegram.org/bot7861027677:AAFZXgB_7COOaixE8_nyR0-o1GQx19d71Rg/sendPhoto\"\n",
        "\n",
        "# Parameters for sending the photo with a caption\n",
        "parameters = {\n",
        "    \"chat_id\": \"-4795784921\",  # Replace with your actual chat ID\n",
        "    \"photo\": \"https://unsplash.com/photos/red-panda-lying-on-brown-log-GAw5wFLVWVo\",  # URL to the image\n",
        "    \"caption\": \"Hello everyone!\"  # Caption for the photo\n",
        "}\n",
        "\n",
        "# Send the request\n",
        "resp = requests.post(base_url, data=parameters)\n",
        "\n",
        "# Print the response for debugging\n",
        "print(resp.text)\n"
      ]
    },
    {
      "cell_type": "markdown",
      "metadata": {
        "id": "iwUA4XDPYPxi"
      },
      "source": [
        "# **Sending photos multiple time with caption**"
      ]
    },
    {
      "cell_type": "code",
      "execution_count": 31,
      "metadata": {
        "colab": {
          "base_uri": "https://localhost:8080/"
        },
        "id": "dc_2LuLrWrA0",
        "outputId": "65e77c07-35e9-4cb4-9965-4e471317ec1a"
      },
      "outputs": [
        {
          "name": "stdout",
          "output_type": "stream",
          "text": [
            "{\"ok\":true,\"result\":{\"message_id\":26,\"from\":{\"id\":7861027677,\"is_bot\":true,\"first_name\":\"piggy\",\"username\":\"piggy15_bot\"},\"chat\":{\"id\":-4795784921,\"title\":\"panda\",\"type\":\"group\",\"all_members_are_administrators\":true},\"date\":1734686530,\"photo\":[{\"file_id\":\"AgACAgQAAxkDAAMaZ2U3QlU4GoCzJvfheBDglvfN3jQAApS2MRuLwy1TBMQ9gxVw4zMBAAMCAANzAAM2BA\",\"file_unique_id\":\"AQADlLYxG4vDLVN4\",\"file_size\":1279,\"width\":90,\"height\":47},{\"file_id\":\"AgACAgQAAxkDAAMaZ2U3QlU4GoCzJvfheBDglvfN3jQAApS2MRuLwy1TBMQ9gxVw4zMBAAMCAANtAAM2BA\",\"file_unique_id\":\"AQADlLYxG4vDLVNy\",\"file_size\":18953,\"width\":320,\"height\":168},{\"file_id\":\"AgACAgQAAxkDAAMaZ2U3QlU4GoCzJvfheBDglvfN3jQAApS2MRuLwy1TBMQ9gxVw4zMBAAMCAAN4AAM2BA\",\"file_unique_id\":\"AQADlLYxG4vDLVN9\",\"file_size\":95909,\"width\":800,\"height\":420},{\"file_id\":\"AgACAgQAAxkDAAMaZ2U3QlU4GoCzJvfheBDglvfN3jQAApS2MRuLwy1TBMQ9gxVw4zMBAAMCAAN5AAM2BA\",\"file_unique_id\":\"AQADlLYxG4vDLVN-\",\"file_size\":148103,\"width\":1200,\"height\":630}],\"caption\":\"Hello everyone!\"}}\n",
            "{\"ok\":true,\"result\":{\"message_id\":27,\"from\":{\"id\":7861027677,\"is_bot\":true,\"first_name\":\"piggy\",\"username\":\"piggy15_bot\"},\"chat\":{\"id\":-4795784921,\"title\":\"panda\",\"type\":\"group\",\"all_members_are_administrators\":true},\"date\":1734686543,\"photo\":[{\"file_id\":\"AgACAgQAAxkDAAMbZ2U3Ty6OGqD9K-t5n0uWrHHVf64AAse1MRucISxTRNqUqL0JSZABAAMCAANzAAM2BA\",\"file_unique_id\":\"AQADx7UxG5whLFN4\",\"file_size\":1387,\"width\":90,\"height\":47},{\"file_id\":\"AgACAgQAAxkDAAMbZ2U3Ty6OGqD9K-t5n0uWrHHVf64AAse1MRucISxTRNqUqL0JSZABAAMCAANtAAM2BA\",\"file_unique_id\":\"AQADx7UxG5whLFNy\",\"file_size\":21955,\"width\":320,\"height\":168},{\"file_id\":\"AgACAgQAAxkDAAMbZ2U3Ty6OGqD9K-t5n0uWrHHVf64AAse1MRucISxTRNqUqL0JSZABAAMCAAN4AAM2BA\",\"file_unique_id\":\"AQADx7UxG5whLFN9\",\"file_size\":101654,\"width\":800,\"height\":420},{\"file_id\":\"AgACAgQAAxkDAAMbZ2U3Ty6OGqD9K-t5n0uWrHHVf64AAse1MRucISxTRNqUqL0JSZABAAMCAAN5AAM2BA\",\"file_unique_id\":\"AQADx7UxG5whLFN-\",\"file_size\":152354,\"width\":1200,\"height\":630}],\"caption\":\"Hello everyone!\"}}\n",
            "{\"ok\":true,\"result\":{\"message_id\":28,\"from\":{\"id\":7861027677,\"is_bot\":true,\"first_name\":\"piggy\",\"username\":\"piggy15_bot\"},\"chat\":{\"id\":-4795784921,\"title\":\"panda\",\"type\":\"group\",\"all_members_are_administrators\":true},\"date\":1734686554,\"photo\":[{\"file_id\":\"AgACAgQAAxkDAAMYZ2U2opblLstSNM0L8QfbSPurXZYAAvi2MRtesCxTMxaNibiJQJUBAAMCAANzAAM2BA\",\"file_unique_id\":\"AQAD-LYxG16wLFN4\",\"file_size\":1105,\"width\":90,\"height\":47},{\"file_id\":\"AgACAgQAAxkDAAMYZ2U2opblLstSNM0L8QfbSPurXZYAAvi2MRtesCxTMxaNibiJQJUBAAMCAANtAAM2BA\",\"file_unique_id\":\"AQAD-LYxG16wLFNy\",\"file_size\":15661,\"width\":320,\"height\":168},{\"file_id\":\"AgACAgQAAxkDAAMYZ2U2opblLstSNM0L8QfbSPurXZYAAvi2MRtesCxTMxaNibiJQJUBAAMCAAN4AAM2BA\",\"file_unique_id\":\"AQAD-LYxG16wLFN9\",\"file_size\":74029,\"width\":800,\"height\":420},{\"file_id\":\"AgACAgQAAxkDAAMYZ2U2opblLstSNM0L8QfbSPurXZYAAvi2MRtesCxTMxaNibiJQJUBAAMCAAN5AAM2BA\",\"file_unique_id\":\"AQAD-LYxG16wLFN-\",\"file_size\":118866,\"width\":1200,\"height\":630}],\"caption\":\"Hello everyone!\"}}\n"
          ]
        }
      ],
      "source": [
        "import requests\n",
        "import time\n",
        "\n",
        "# Correct API endpoint with token\n",
        "base_url = \"https://api.telegram.org/bot7861027677:AAFZXgB_7COOaixE8_nyR0-o1GQx19d71Rg/sendPhoto\"\n",
        "\n",
        "# List of image URLs\n",
        "urls = [\n",
        "    \"https://unsplash.com/photos/white-and-black-panda-on-brown-wooden-fence-during-daytime-e3mu-MTj7Xk\",\n",
        "    \"https://unsplash.com/photos/panda-on-tree-6Ox3fPG-qvo\",\n",
        "    \"https://unsplash.com/photos/red-panda-bear-ERB4MTXEkbo\"\n",
        "]\n",
        "\n",
        "# Loop through the image URLs and send each photo\n",
        "for url in urls:\n",
        "    # Parameters for sending the photo with a caption\n",
        "    parameters = {\n",
        "        \"chat_id\": \"-4795784921\",  # Replace with your actual chat ID\n",
        "        \"photo\": url,  # URL to the image\n",
        "        \"caption\": \"Hello everyone!\"  # Caption for the photo\n",
        "    }\n",
        "\n",
        "    # Send the request\n",
        "    resp = requests.post(base_url, data=parameters)\n",
        "\n",
        "    # Print the response for debugging\n",
        "    print(resp.text)\n",
        "\n",
        "    # Wait for 10 seconds before sending the next image\n",
        "    time.sleep(10)\n"
      ]
    },
    {
      "cell_type": "markdown",
      "metadata": {
        "id": "3p08OkRahFgV"
      },
      "source": [
        "# **Adding Audio **"
      ]
    },
    {
      "cell_type": "code",
      "execution_count": 32,
      "metadata": {
        "colab": {
          "base_uri": "https://localhost:8080/"
        },
        "id": "6FNhuhRBYXYY",
        "outputId": "a882edbf-7307-4f46-a946-dda5d116035d"
      },
      "outputs": [
        {
          "name": "stdout",
          "output_type": "stream",
          "text": [
            "{\"ok\":true,\"result\":{\"message_id\":29,\"from\":{\"id\":7861027677,\"is_bot\":true,\"first_name\":\"piggy\",\"username\":\"piggy15_bot\"},\"chat\":{\"id\":-4795784921,\"title\":\"panda\",\"type\":\"group\",\"all_members_are_administrators\":true},\"date\":1734688823,\"audio\":{\"duration\":372,\"file_name\":\"SoundHelix-Song-1.mp3\",\"mime_type\":\"audio/mpeg\",\"performer\":\"SoundHelix\",\"file_id\":\"CQACAgQAAxkDAAMdZ2VANxtyyF0QTT-yz7bBIx5ZoRoAAngFAAK63iVQB_M4QqxGGK02BA\",\"file_unique_id\":\"AgADeAUAArreJVA\",\"file_size\":8945229},\"caption\":\"Hello everyone!\"}}\n"
          ]
        }
      ],
      "source": [
        "import requests\n",
        "import time\n",
        "\n",
        "# Correct API endpoint with token\n",
        "base_url = \"https://api.telegram.org/bot7861027677:AAFZXgB_7COOaixE8_nyR0-o1GQx19d71Rg/sendAudio\"\n",
        "\n",
        "# List of audio URLs\n",
        "audio_urls = [\n",
        "    \"https://www.soundhelix.com/examples/mp3/SoundHelix-Song-1.mp3\",  # Example direct audio file link\n",
        "    # You can add more audio URLs if needed.\n",
        "]\n",
        "\n",
        "# Loop through each audio URL and send\n",
        "for url in audio_urls:\n",
        "    # Parameters for sending the audio\n",
        "    parameters = {\n",
        "        \"chat_id\": \"-4795784921\",  # Replace with your actual chat ID\n",
        "        \"audio\": url,  # Direct URL to the audio file\n",
        "        \"caption\": \"Hello everyone!\"  # Caption for the audio (optional)\n",
        "    }\n",
        "\n",
        "    # Send the request\n",
        "    resp = requests.post(base_url, data=parameters)\n",
        "\n",
        "    # Print the response for debugging\n",
        "    print(resp.text)\n",
        "\n",
        "    # Wait for 10 seconds before sending the next audio\n",
        "    time.sleep(10)\n"
      ]
    },
    {
      "cell_type": "code",
      "execution_count": 33,
      "metadata": {
        "colab": {
          "base_uri": "https://localhost:8080/"
        },
        "id": "5HLKYRPAhKCo",
        "outputId": "3e55d36d-bd2f-4aa4-a39c-e466f6cbaad2"
      },
      "outputs": [
        {
          "name": "stdout",
          "output_type": "stream",
          "text": [
            "{\"ok\":true,\"result\":[{\"update_id\":397126626,\n",
            "\"message\":{\"message_id\":3,\"from\":{\"id\":1601503729,\"is_bot\":false,\"first_name\":\"panda\"},\"chat\":{\"id\":-4795784921,\"title\":\"panda\",\"type\":\"group\",\"all_members_are_administrators\":true},\"date\":1734681419,\"text\":\"/hello\",\"entities\":[{\"offset\":0,\"length\":6,\"type\":\"bot_command\"}]}},{\"update_id\":397126627,\n",
            "\"message\":{\"message_id\":4,\"from\":{\"id\":1601503729,\"is_bot\":false,\"first_name\":\"panda\"},\"chat\":{\"id\":-4795784921,\"title\":\"panda\",\"type\":\"group\",\"all_members_are_administrators\":true},\"date\":1734681585,\"text\":\"hiii\"}},{\"update_id\":397126628,\n",
            "\"message\":{\"message_id\":5,\"from\":{\"id\":1601503729,\"is_bot\":false,\"first_name\":\"panda\"},\"chat\":{\"id\":-4795784921,\"title\":\"panda\",\"type\":\"group\",\"all_members_are_administrators\":true},\"date\":1734682187,\"text\":\"hey this is a new message\"}},{\"update_id\":397126629,\n",
            "\"message\":{\"message_id\":30,\"from\":{\"id\":1601503729,\"is_bot\":false,\"first_name\":\"panda\",\"language_code\":\"en\"},\"chat\":{\"id\":1601503729,\"first_name\":\"panda\",\"type\":\"private\"},\"date\":1734688860,\"text\":\"/start\",\"entities\":[{\"offset\":0,\"length\":6,\"type\":\"bot_command\"}]}}]}\n",
            "{\"ok\":true,\"result\":{\"message_id\":31,\"from\":{\"id\":7861027677,\"is_bot\":true,\"first_name\":\"piggy\",\"username\":\"piggy15_bot\"},\"chat\":{\"id\":-4795784921,\"title\":\"panda\",\"type\":\"group\",\"all_members_are_administrators\":true},\"date\":1734689473,\"text\":\"Hi, I am Piggy!\"}}\n",
            "{\"ok\":true,\"result\":{\"message_id\":32,\"from\":{\"id\":7861027677,\"is_bot\":true,\"first_name\":\"piggy\",\"username\":\"piggy15_bot\"},\"chat\":{\"id\":-4795784921,\"title\":\"panda\",\"type\":\"group\",\"all_members_are_administrators\":true},\"date\":1734689484,\"text\":\"How are you guys?\"}}\n",
            "{\"ok\":true,\"result\":{\"message_id\":33,\"from\":{\"id\":7861027677,\"is_bot\":true,\"first_name\":\"piggy\",\"username\":\"piggy15_bot\"},\"chat\":{\"id\":-4795784921,\"title\":\"panda\",\"type\":\"group\",\"all_members_are_administrators\":true},\"date\":1734689495,\"text\":\"This is a new joke!\"}}\n"
          ]
        }
      ],
      "source": [
        "import requests\n",
        "import time\n",
        "\n",
        "# Correct API endpoint with token\n",
        "base_url = \"https://api.telegram.org/bot7861027677:AAFZXgB_7COOaixE8_nyR0-o1GQx19d71Rg\"\n",
        "\n",
        "# Function to read incoming messages\n",
        "def read_msg():\n",
        "    parameters = {\n",
        "        \"offset\": \"994059489\"  # You might need to adjust this value based on your offset\n",
        "    }\n",
        "    resp = requests.get(f\"{base_url}/getUpdates\", params=parameters)\n",
        "    print(resp.text)  # Print the response for debugging\n",
        "\n",
        "\n",
        "# Function to send a message\n",
        "def snd_msg(joke):\n",
        "    parameters = {\n",
        "        \"chat_id\": \"-4795784921\",  # Replace with your actual chat ID\n",
        "        \"text\": joke               # Send the current joke\n",
        "    }\n",
        "\n",
        "    # Send the message\n",
        "    resp = requests.post(f\"{base_url}/sendMessage\", data=parameters)\n",
        "\n",
        "    # Print the response for debugging\n",
        "    print(resp.text)\n",
        "\n",
        "    # Wait for 10 seconds before sending the next joke\n",
        "    time.sleep(10)\n",
        "\n",
        "\n",
        "# Example function to send jokes\n",
        "def main():\n",
        "    jokes = [\n",
        "        \"Hi, I am Piggy!\",\n",
        "        \"How are you guys?\",\n",
        "        \"This is a new joke!\"\n",
        "    ]\n",
        "\n",
        "    for joke in jokes:\n",
        "        snd_msg(joke)\n",
        "\n",
        "# Read messages (You can call this function as needed to get incoming messages)\n",
        "read_msg()\n",
        "\n",
        "# Send some jokes\n",
        "main()\n",
        "\n",
        "\n"
      ]
    },
    {
      "cell_type": "code",
      "execution_count": 34,
      "metadata": {
        "colab": {
          "base_uri": "https://localhost:8080/"
        },
        "id": "OF6IGX_9jp0n",
        "outputId": "737f7e83-a8f3-493e-b376-2b87e7524224"
      },
      "outputs": [
        {
          "name": "stdout",
          "output_type": "stream",
          "text": [
            "{\"ok\":true,\"result\":{\"message_id\":34,\"from\":{\"id\":7861027677,\"is_bot\":true,\"first_name\":\"piggy\",\"username\":\"piggy15_bot\"},\"chat\":{\"id\":-4795784921,\"title\":\"panda\",\"type\":\"group\",\"all_members_are_administrators\":true},\"date\":1734689665,\"text\":\"Hello !!!\"}}\n",
            "{\"ok\":true,\"result\":{\"message_id\":35,\"from\":{\"id\":7861027677,\"is_bot\":true,\"first_name\":\"piggy\",\"username\":\"piggy15_bot\"},\"chat\":{\"id\":-4795784921,\"title\":\"panda\",\"type\":\"group\",\"all_members_are_administrators\":true},\"date\":1734689666,\"text\":\"Hello !!!\"}}\n"
          ]
        }
      ],
      "source": [
        "import requests\n",
        "\n",
        "base_url = \"https://api.telegram.org/bot7861027677:AAFZXgB_7COOaixE8_nyR0-o1GQx19d71Rg\"\n",
        "\n",
        "\n",
        "\n",
        "def read_msg():\n",
        "\n",
        "  parameters = {\n",
        "      \"offset\" : \"994059489\"\n",
        "  }\n",
        "\n",
        "  resp = requests.get(base_url + \"/getUpdates\", data = parameters)\n",
        "  data = resp.json()\n",
        "\n",
        "  for result in data[\"result\"]:\n",
        "    if \"hi\" in result[\"message\"][\"text\"]:\n",
        "      send_msg()\n",
        "\n",
        "\n",
        "def send_msg():\n",
        "  parameters = {\n",
        "      \"chat_id\" : \"-4795784921\",\n",
        "      \"text\" : \"Hello !!!\"\n",
        "  }\n",
        "\n",
        "  resp = requests.get(base_url + \"/sendMessage\", data = parameters)\n",
        "  print(resp.text)\n",
        "\n",
        "\n",
        "\n",
        "read_msg()"
      ]
    }
  ],
  "metadata": {
    "colab": {
      "provenance": []
    },
    "kernelspec": {
      "display_name": "Python 3",
      "name": "python3"
    },
    "language_info": {
      "name": "python",
      "version": "3.12.4"
    }
  },
  "nbformat": 4,
  "nbformat_minor": 0
}
